{
 "cells": [
  {
   "cell_type": "markdown",
   "id": "df3c1627",
   "metadata": {},
   "source": [
    "##  A Golden Path: Context\n",
    "Hopefully the information and techniques provided here lessen your time and effort to obtain a working configuration.  \n",
    "\n",
    "Note: This Jupyter Notebook was constructed with Microsoft Visual Code.  To jump to a section of interest used the OUTLINE view within the Explorer option in the Activity Bar. "
   ]
  },
  {
   "cell_type": "markdown",
   "id": "3dbf5f9b",
   "metadata": {},
   "source": [
    "## 01  Hardware and software platforms"
   ]
  },
  {
   "cell_type": "markdown",
   "id": "53ea3b34",
   "metadata": {},
   "source": [
    "### 01.01  general development machine, Apple Silicon"
   ]
  },
  {
   "cell_type": "code",
   "execution_count": null,
   "id": "c79e1632",
   "metadata": {},
   "outputs": [
    {
     "name": "stdout",
     "output_type": "stream",
     "text": [
      "  Apple M4  --  developer hardware \n",
      "macOS 15.6  --  developer operating system"
     ]
    }
   ],
   "source": [
    "%%bash\n",
    "printf -- '  %s  --  developer hardware \\n' \"$(sysctl -n machdep.cpu.brand_string | cut -c 1-8)\"\n",
    "printf -- '%s %s  --  developer operating system' \"$(sw_vers --productName)\" \"$(sw_vers --productVersion)\""
   ]
  },
  {
   "cell_type": "markdown",
   "id": "146dd9df",
   "metadata": {},
   "source": [
    "### 01.02  COBOL development machine, Apple MacBook Pro with Intel.\n",
    "*  IBM COBOL for Linux x86 pre-reqs one of three operating systems.  RHEL 9 is my choice because of previous experience.\n",
    "\n",
    "Note:  My QNAP NAS with an Intel® Celeron® Processor N5095 lacks the [documented requirement for the avx2](https://www.ibm.com/docs/en/cobol-linux-x86/1.2.0?topic=prerequisites-system) instruction set."
   ]
  },
  {
   "cell_type": "code",
   "execution_count": 1,
   "id": "967e3158",
   "metadata": {},
   "outputs": [
    {
     "name": "stdout",
     "output_type": "stream",
     "text": [
      "\n",
      ">>>ssh -T ic4lx86 'hostnamectl'<<<\n",
      "\n",
      " Static hostname: ic4lx86\n",
      "       Icon name: computer-vm\n",
      "         Chassis: vm 🖴\n",
      "      Machine ID: 3bb72366d1e44ce883da69489ea40b69\n",
      "         Boot ID: 64830cc96116489684b3d888b6a58def\n",
      "  Virtualization: vmware\n",
      "Operating System: Red Hat Enterprise Linux 9.6 (Plow)\n",
      "     CPE OS Name: cpe:/o:redhat:enterprise_linux:9::baseos\n",
      "          Kernel: Linux 5.14.0-570.28.1.el9_6.x86_64\n",
      "    Architecture: x86-64\n",
      " Hardware Vendor: VMware, Inc.\n",
      "  Hardware Model: VMware20,1\n",
      "Firmware Version: VMW201.00V.24006586.B64.2406042154\n"
     ]
    }
   ],
   "source": [
    "%%bash\n",
    "# Red Hat command to provide operating system summary.\n",
    "\n",
    "strng=$'ssh -T ic4lx86 \\'hostnamectl\\''\n",
    "printf '\\n>>>%s<<<\\n\\n' \"$strng\"\n",
    "eval $strng"
   ]
  },
  {
   "cell_type": "code",
   "execution_count": null,
   "id": "360aa289",
   "metadata": {},
   "outputs": [
    {
     "name": "stdout",
     "output_type": "stream",
     "text": [
      "\n",
      ">>>ssh -T ic4lx86 'grep --max-count 1 vendor_id /proc/cpuinfo && grep --only-matching --max-count 1 'avx2' /proc/cpuinfo '<<<\n",
      "\n",
      "vendor_id\t: GenuineIntel\n",
      "avx2\n"
     ]
    }
   ],
   "source": [
    "%%bash\n",
    "# Ask the operating system about the hardware platform.\n",
    "## Need an Intel processor with support for the avx2 instruction set.\n",
    "\n",
    "strng='ssh -T ic4lx86 '\n",
    "strng+=$'\\'grep --max-count 1 vendor_id /proc/cpuinfo && '\n",
    "strng+=$'grep --only-matching --max-count 1 \\'avx2\\' /proc/cpuinfo \\''\n",
    "printf '\\n>>>%s<<<\\n\\n' \"$strng\"\n",
    "eval $strng"
   ]
  },
  {
   "cell_type": "markdown",
   "id": "d0d92172",
   "metadata": {},
   "source": [
    "#### Linux instance for COBOL, configure bash for virtuser\n",
    "Red Hat Developer blog, Rob Terzi, 2018-08-15  --  How to enable sudo on Red Hat Enterprise Linux\n",
    "https://developers.redhat.com/blog/2018/08/15/how-to-enable-sudo-on-rhel#tl_dr__basic_sudo  \n",
    "\n",
    "\n",
    "```\n",
    "set -o vi\n",
    "\n",
    "# 2025-03-04T set environment variables for Gnu ls\n",
    "export BLOCK_SIZE=\"'1\"\n",
    "export TIME_STYLE='+%Y-%m-%d_%H:%M:%S_%z'\n",
    "\n",
    "## Remember to escape $PWD to prevent expansion at first execution.\n",
    "export PS1=\"\\n[grace \\$(date --iso-8601=seconds )  \\$PWD]\\n\\$ \"\n",
    "\n",
    "# IBM COBOL for Linux on x86 values\n",
    "export PATH=$PATH:/opt/ibm/cobol/1.2.0/bin:/opt/ibm/cobol/1.2.0/rte/bin:/opt/ibm/cobol/1.2.0/debug/usr/bin\n",
    "\n",
    "# 2025-07-28 \"IBM COBOL for Linux on x86 1.2: Installation Guide\" p015\n",
    "if [[ \"$MANPATH\" ]]; then\n",
    "  export MANPATH=$MANPATH:/opt/ibm/cobol/1.2.0/man:/opt/ibm/cobol/rte/man\n",
    "else\n",
    "  export MANPATH=/opt/ibm/cobol/1.2.0/man:/opt/ibm/cobol/rte/man\n",
    "fi\n",
    "```\n",
    "\n",
    "Example of setting sudoers file.\n",
    "\n",
    "```\n",
    "[01.rhel9.nas 2025-08-18T20:54:59-05:00  /home/virtuser]\n",
    "$ su --login root\n",
    "Password:\n",
    "[root@01 ~]# echo -e \"virtuser\\tALL=(ALL)\\tNOPASSWD: ALL\" > /etc/sudoers.d/020_virtuser && cat /etc/sudoers.d/020_virtuser\n",
    "virtuser\tALL=(ALL)\tNOPASSWD: ALL\n",
    "[root@01 ~]# exit\n",
    "logout\n",
    "\n",
    "[01.rhel9.nas 2025-08-18T20:58:30-05:00  /home/virtuser]\n",
    "$ sudo ls -lt /etc/sudoers.d/\n",
    "total 4\n",
    "-rw-r--r--. 1 root root 33 Aug 18 20:58 020_virtuser\n",
    "```"
   ]
  },
  {
   "cell_type": "markdown",
   "id": "8d127da5",
   "metadata": {},
   "source": [
    "#### Review Gnu Complier Collection levels\n",
    "See Documentation IBM COBOL for Linux on x86 [Software requirements: required programs](https://www.ibm.com/docs/en/cobol-linux-x86/1.2.0?topic=prerequisites-system#sysprereqs__required__title__1◊)"
   ]
  },
  {
   "cell_type": "code",
   "execution_count": null,
   "id": "92c64f5c",
   "metadata": {},
   "outputs": [
    {
     "name": "stdout",
     "output_type": "stream",
     "text": [
      "\n",
      ">>>ssh ic4lx86 -T 'sudo dnf list installed gcc glibc glibc-devel libgcc libstdc++ | column | tail -n +3 | nl'<<<\n",
      "     1\tgcc.x86_64              11.5.0-5.el9_5         @rhel-9-for-x86_64-appstream-rpms\n",
      "     2\tglibc.x86_64            2.34-168.el9_6.23      @rhel-9-for-x86_64-baseos-rpms   \n",
      "     3\tglibc-devel.x86_64      2.34-168.el9_6.23      @rhel-9-for-x86_64-appstream-rpms\n",
      "     4\tlibgcc.x86_64           11.5.0-5.el9_5         @rhel-9-for-x86_64-baseos-rpms   \n",
      "     5\tlibstdc++.x86_64        11.5.0-5.el9_5         @rhel-9-for-x86_64-baseos-rpms   \n"
     ]
    }
   ],
   "source": [
    "%%bash\n",
    "# virtuser is now a member of sudoers.  Review Gnu Complier Collection packages.\n",
    "## Note, this command may take five seconds, or so.\n",
    "\n",
    "strng=$'ssh ic4lx86 -T \\'sudo dnf list installed '\n",
    "strng+='gcc '\n",
    "strng+='glibc '\n",
    "strng+='glibc-devel '\n",
    "strng+='libgcc '\n",
    "strng+='libstdc++ '\n",
    "strng+=$'| column | tail -n +3 | nl\\''\n",
    "\n",
    "printf '\\n>>>%s<<<\\n\\n' \"$strng\"\n",
    "eval $strng"
   ]
  },
  {
   "cell_type": "markdown",
   "id": "7e93daa7",
   "metadata": {},
   "source": [
    "## 02  PostgreSQL"
   ]
  },
  {
   "cell_type": "markdown",
   "id": "51ec8266",
   "metadata": {},
   "source": [
    "###  02.01  Postgres.app on developer machine -- the server\n",
    "I used the version of PostgreSQL current in Summer 2025.  Postgres.app automates the installation and dayone tasks.  Highly recommended.  To Complement Postgress.app I used pgAdmin, current release, for the database administartion and observation. "
   ]
  },
  {
   "cell_type": "markdown",
   "id": "99f1c23a",
   "metadata": {},
   "source": [
    "### 02.02 PostgreSQL installed on Linux for IBM COBOL for Linux on x86\n",
    "The IBM Documentation [Compiling and linking a COBOL program with embedded SQL statements in PostgreSQL](https://www.ibm.com/docs/en/cobol-linux-x86/1.2.0?topic=ppe-compiling-linking-cobol-program-embedded-sql-statements-in-postgresql) describes the need for the PostgreSQL ECPG library.  \n",
    "\"[The libecpg library primarily contains “hidden” functions that are used to implement the functionality expressed by the embedded SQL commands.](https://www.postgresql.org/docs/current/ecpg-library.html)\n",
    "ECPG, the embedded SQL preprocessor for C programs, is  included as part of the PostgreSQL development packages.  It is not part in a RHEL provided repository."
   ]
  },
  {
   "cell_type": "code",
   "execution_count": 63,
   "id": "3019de22",
   "metadata": {},
   "outputs": [
    {
     "name": "stdout",
     "output_type": "stream",
     "text": [
      "\n",
      ">>>ssh ic4lx86 -T 'sudo dnf list available postgresql*'<<<\n",
      "\n",
      "Updating Subscription Management repositories.\n",
      "Red Hat Enterprise Linux 9 for x86_64 - BaseOS   18 kB/s | 4.1 kB     00:00    \n",
      "Red Hat Enterprise Linux 9 for x86_64 - BaseOS   25 MB/s |  72 MB     00:02    \n",
      "Red Hat Enterprise Linux 9 for x86_64 - AppStre  25 kB/s | 4.5 kB     00:00    \n",
      "Red Hat Enterprise Linux 9 for x86_64 - AppStre  19 MB/s |  66 MB     00:03    \n",
      "Last metadata expiration check: 0:00:13 ago on Thu 21 Aug 2025 11:33:19 AM CDT.\n",
      "Available Packages\n",
      "postgresql.x86_64              13.20-1.el9_5    rhel-9-for-x86_64-appstream-rpms\n",
      "postgresql-contrib.x86_64      13.20-1.el9_5    rhel-9-for-x86_64-appstream-rpms\n",
      "postgresql-jdbc.noarch         42.2.28-1.el9_3  rhel-9-for-x86_64-appstream-rpms\n",
      "postgresql-odbc.x86_64         12.02.0000-6.el9 rhel-9-for-x86_64-appstream-rpms\n",
      "postgresql-plperl.x86_64       13.20-1.el9_5    rhel-9-for-x86_64-appstream-rpms\n",
      "postgresql-plpython3.x86_64    13.20-1.el9_5    rhel-9-for-x86_64-appstream-rpms\n",
      "postgresql-pltcl.x86_64        13.20-1.el9_5    rhel-9-for-x86_64-appstream-rpms\n",
      "postgresql-private-libs.x86_64 13.20-1.el9_5    rhel-9-for-x86_64-appstream-rpms\n",
      "postgresql-server.x86_64       13.20-1.el9_5    rhel-9-for-x86_64-appstream-rpms\n",
      "postgresql-upgrade.x86_64      13.20-1.el9_5    rhel-9-for-x86_64-appstream-rpms\n"
     ]
    }
   ],
   "source": [
    "%%bash\n",
    "# RHEL does not provided the PostgreSQL developer libraries.\n",
    "## This command may take several seconds to complete.\n",
    "\n",
    "strng=$'ssh ic4lx86 -T \\'sudo dnf list available postgresql*\\''\n",
    "printf '\\n>>>%s<<<\\n\\n' \"$strng\"\n",
    "eval $strng"
   ]
  },
  {
   "cell_type": "markdown",
   "id": "fba536ad",
   "metadata": {},
   "source": [
    "#### 02.02.01 PostgresSQL instructions for installing product binaries and development libraries on Linux (RHEL)\n",
    "\n",
    "At [Linux downloads (Red Hat family)](https://www.postgresql.org/download/linux/redhat/) there is prompter to describe what is needed from PostgreSQL:\n",
    "*  Select version: 17\n",
    "*  Select platform: Red Hat Enterprise, Rocky, AlmaLinux or Oracale version 9\n",
    "*  Select architecture: x86_64 \n",
    "\n",
    "```\n",
    "# Install the repository RPM:\n",
    "sudo dnf install -y https://download.postgresql.org/pub/repos/yum/reporpms/EL-9-x86_64/pgdg-redhat-repo-latest.noarch.rpm\n",
    "# Disable the built-in PostgreSQL module:\n",
    "sudo dnf -qy module disable postgresql\n",
    "# Install PostgreSQL:\n",
    "sudo dnf install -y postgresql17-server\n",
    "```"
   ]
  },
  {
   "cell_type": "code",
   "execution_count": 64,
   "id": "8eea50dd",
   "metadata": {},
   "outputs": [
    {
     "name": "stdout",
     "output_type": "stream",
     "text": [
      "\n",
      ">>>ssh ic4lx86 -T 'sudo dnf install --assumeyes https://download.postgresql.org/pub/repos/yum/reporpms/EL-9-x86_64/pgdg-redhat-repo-latest.noarch.rpm'<<<\n",
      "\n",
      "Updating Subscription Management repositories.\n",
      "Last metadata expiration check: 0:00:32 ago on Thu 21 Aug 2025 11:33:19 AM CDT.\n",
      "pgdg-redhat-repo-latest.noarch.rpm               41 kB/s |  12 kB     00:00    \n",
      "Dependencies resolved.\n",
      "================================================================================\n",
      " Package                Architecture Version           Repository          Size\n",
      "================================================================================\n",
      "Installing:\n",
      " pgdg-redhat-repo       noarch       42.0-54PGDG       @commandline        12 k\n",
      "\n",
      "Transaction Summary\n",
      "================================================================================\n",
      "Install  1 Package\n",
      "\n",
      "Total size: 12 k\n",
      "Installed size: 17 k\n",
      "Downloading Packages:\n",
      "Running transaction check\n",
      "Transaction check succeeded.\n",
      "Running transaction test\n",
      "Transaction test succeeded.\n",
      "Running transaction\n",
      "  Preparing        :                                                        1/1 \n",
      "  Installing       : pgdg-redhat-repo-42.0-54PGDG.noarch                    1/1 \n",
      "  Verifying        : pgdg-redhat-repo-42.0-54PGDG.noarch                    1/1 \n",
      "Installed products updated.\n",
      "\n",
      "Installed:\n",
      "  pgdg-redhat-repo-42.0-54PGDG.noarch                                           \n",
      "\n",
      "Complete!\n"
     ]
    }
   ],
   "source": [
    "%%bash\n",
    "# From postgresql.org install the repository RPM.\n",
    "## This command may take twenty seconds to complete.\n",
    "\n",
    "\n",
    "strng=$'ssh ic4lx86 -T \\'sudo dnf install --assumeyes '\n",
    "strng+=$'https://download.postgresql.org/pub/repos/yum/reporpms/EL-9-x86_64/pgdg-redhat-repo-latest.noarch.rpm\\''\n",
    "printf '\\n>>>%s<<<\\n\\n' \"$strng\"\n",
    "eval $strng"
   ]
  },
  {
   "cell_type": "code",
   "execution_count": 65,
   "id": "87ed6e3a",
   "metadata": {},
   "outputs": [
    {
     "name": "stdout",
     "output_type": "stream",
     "text": [
      "\n",
      ">>>ssh ic4lx86 -T 'sudo dnf module disable postgresql --quiet --assumeyes'<<<\n",
      "\n"
     ]
    },
    {
     "name": "stderr",
     "output_type": "stream",
     "text": [
      "Importing GPG key 0x08B40D20:\n",
      " Userid     : \"PostgreSQL RPM Repository <pgsql-pkg-yum@lists.postgresql.org>\"\n",
      " Fingerprint: D4BF 08AE 67A0 B4C7 A1DB CCD2 40BC A2B4 08B4 0D20\n",
      " From       : /etc/pki/rpm-gpg/PGDG-RPM-GPG-KEY-RHEL\n",
      "Importing GPG key 0x08B40D20:\n",
      " Userid     : \"PostgreSQL RPM Repository <pgsql-pkg-yum@lists.postgresql.org>\"\n",
      " Fingerprint: D4BF 08AE 67A0 B4C7 A1DB CCD2 40BC A2B4 08B4 0D20\n",
      " From       : /etc/pki/rpm-gpg/PGDG-RPM-GPG-KEY-RHEL\n",
      "Importing GPG key 0x08B40D20:\n",
      " Userid     : \"PostgreSQL RPM Repository <pgsql-pkg-yum@lists.postgresql.org>\"\n",
      " Fingerprint: D4BF 08AE 67A0 B4C7 A1DB CCD2 40BC A2B4 08B4 0D20\n",
      " From       : /etc/pki/rpm-gpg/PGDG-RPM-GPG-KEY-RHEL\n",
      "Importing GPG key 0x08B40D20:\n",
      " Userid     : \"PostgreSQL RPM Repository <pgsql-pkg-yum@lists.postgresql.org>\"\n",
      " Fingerprint: D4BF 08AE 67A0 B4C7 A1DB CCD2 40BC A2B4 08B4 0D20\n",
      " From       : /etc/pki/rpm-gpg/PGDG-RPM-GPG-KEY-RHEL\n",
      "Importing GPG key 0x08B40D20:\n",
      " Userid     : \"PostgreSQL RPM Repository <pgsql-pkg-yum@lists.postgresql.org>\"\n",
      " Fingerprint: D4BF 08AE 67A0 B4C7 A1DB CCD2 40BC A2B4 08B4 0D20\n",
      " From       : /etc/pki/rpm-gpg/PGDG-RPM-GPG-KEY-RHEL\n",
      "Importing GPG key 0x08B40D20:\n",
      " Userid     : \"PostgreSQL RPM Repository <pgsql-pkg-yum@lists.postgresql.org>\"\n",
      " Fingerprint: D4BF 08AE 67A0 B4C7 A1DB CCD2 40BC A2B4 08B4 0D20\n",
      " From       : /etc/pki/rpm-gpg/PGDG-RPM-GPG-KEY-RHEL\n"
     ]
    }
   ],
   "source": [
    "%%bash\n",
    "# Disable the built-in PostgreSQL module.\n",
    "## This command may take twenty seconds to complete.\n",
    "\n",
    "strng=$'ssh ic4lx86 -T \\'sudo dnf module disable postgresql --quiet --assumeyes\\''\n",
    "printf '\\n>>>%s<<<\\n\\n' \"$strng\"\n",
    "eval $strng"
   ]
  },
  {
   "cell_type": "code",
   "execution_count": 66,
   "id": "f35542ba",
   "metadata": {},
   "outputs": [
    {
     "name": "stdout",
     "output_type": "stream",
     "text": [
      "\n",
      ">>>ssh ic4lx86 -T 'sudo dnf info postgresql17 postgresql17-devel'<<<\n",
      "\n",
      "Updating Subscription Management repositories.\n",
      "Last metadata expiration check: 0:00:12 ago on Thu 21 Aug 2025 11:34:16 AM CDT.\n",
      "Available Packages\n",
      "Name         : postgresql17\n",
      "Version      : 17.6\n",
      "Release      : 1PGDG.rhel9\n",
      "Architecture : x86_64\n",
      "Size         : 1.9 M\n",
      "Source       : postgresql17-17.6-1PGDG.rhel9.src.rpm\n",
      "Repository   : pgdg17\n",
      "Summary      : PostgreSQL client programs and libraries\n",
      "URL          : https://www.postgresql.org/\n",
      "License      : PostgreSQL\n",
      "Description  : PostgreSQL is an advanced Object-Relational database management system (DBMS).\n",
      "             : The base postgresql package contains the client programs that you'll need to\n",
      "             : access a PostgreSQL DBMS server. These client programs can be located on the\n",
      "             : same machine as the PostgreSQL server, or on a remote machine that accesses a\n",
      "             : PostgreSQL server over a network connection. The PostgreSQL server can be found\n",
      "             : in the postgresql17-server sub-package.\n",
      "             : \n",
      "             : If you want to manipulate a PostgreSQL database on a local or remote PostgreSQL\n",
      "             : server, you need this package. You also need to install this package\n",
      "             : if you're installing the postgresql17-server package.\n",
      "\n",
      "Name         : postgresql17-devel\n",
      "Version      : 17.6\n",
      "Release      : 1PGDG.rhel9\n",
      "Architecture : x86_64\n",
      "Size         : 6.1 M\n",
      "Source       : postgresql17-17.6-1PGDG.rhel9.src.rpm\n",
      "Repository   : pgdg17\n",
      "Summary      : PostgreSQL development header files and libraries\n",
      "URL          : https://www.postgresql.org/\n",
      "License      : PostgreSQL\n",
      "Description  : The postgresql17-devel package contains the header files and libraries\n",
      "             : needed to compile C or C++ applications which will directly interact\n",
      "             : with a PostgreSQL database management server. It also contains the ecpg\n",
      "             : Embedded C Postgres preprocessor. You need to install this package if you want\n",
      "             : to develop applications which will interact with a PostgreSQL server.\n",
      "\n"
     ]
    }
   ],
   "source": [
    "%%bash\n",
    "# Validate that the two packages of interest are available.\n",
    "## This command may take ten seconds to complete.\n",
    "\n",
    "strng=$'ssh ic4lx86 -T \\'sudo dnf info postgresql17 postgresql17-devel\\''\n",
    "printf '\\n>>>%s<<<\\n\\n' \"$strng\"\n",
    "eval $strng"
   ]
  },
  {
   "cell_type": "markdown",
   "id": "7d7070f9",
   "metadata": {},
   "source": [
    "#### 02.02.02  postgresql17 install product binaries"
   ]
  },
  {
   "cell_type": "code",
   "execution_count": 67,
   "id": "0b136f80",
   "metadata": {
    "vscode": {
     "languageId": "shellscript"
    }
   },
   "outputs": [
    {
     "name": "stdout",
     "output_type": "stream",
     "text": [
      "\n",
      ">>>ssh ic4lx86 -T 'sudo dnf install postgresql17 --quiet --assumeyes  &&  psql --version '<<<\n",
      "\n"
     ]
    },
    {
     "name": "stderr",
     "output_type": "stream",
     "text": [
      "Importing GPG key 0x08B40D20:\n",
      " Userid     : \"PostgreSQL RPM Repository <pgsql-pkg-yum@lists.postgresql.org>\"\n",
      " Fingerprint: D4BF 08AE 67A0 B4C7 A1DB CCD2 40BC A2B4 08B4 0D20\n",
      " From       : /etc/pki/rpm-gpg/PGDG-RPM-GPG-KEY-RHEL\n"
     ]
    },
    {
     "name": "stdout",
     "output_type": "stream",
     "text": [
      "\n",
      "Installed:\n",
      "  postgresql17-17.6-1PGDG.rhel9.x86_64                                          \n",
      "  postgresql17-libs-17.6-1PGDG.rhel9.x86_64                                     \n",
      "\n",
      "psql (PostgreSQL) 17.6\n"
     ]
    }
   ],
   "source": [
    "%%bash\n",
    "# Install postgresql17.\n",
    "## This command may take twenty seconds to complete.\n",
    "\n",
    "strng=$'ssh ic4lx86 -T \\'sudo dnf install postgresql17 --quiet --assumeyes  &&  '\n",
    "strng+=$'psql --version \\''\n",
    "printf '\\n>>>%s<<<\\n\\n' \"$strng\"\n",
    "eval $strng"
   ]
  },
  {
   "cell_type": "markdown",
   "id": "690e3c56",
   "metadata": {},
   "source": [
    "#### 02.02.03  PostgresSQL development library and perl(IPC::Run) pre-req\n",
    "\n",
    "The first time attempt with  \n",
    "```\n",
    "sudo dnf install postgresql17-devel \\--quiet \\--assumeyes\n",
    "```\n",
    "\n",
    "resulted in   \n",
    "```\n",
    "Error:   \n",
    " Problem: cannot install the best candidate for the job  \n",
    "  \\- nothing provides perl(IPC::Run) needed by postgresql17-devel-17.6-1PGDG.rhel9.x86\\_64 from pgdg17\n",
    "```\n",
    "\n",
    "Investigating with Google Search I learned about Red Hat’s [CodeReady Linux Builder repository.](https://access.redhat.com/solutions/4180391)  This is where Red Hat provides access to repositories they donot support.  The Red Hat Customer Portal Knowledgebase article “[Where are perl-IPC-Run and perl-IO-Tty packages in RHEL 8 and RHEL 9](https://access.redhat.com/solutions/7017597)” provides example commands for obtaining the perl-IPC-run package and a link for understanding CodeReady Linux Builder repository.\n",
    "\n",
    "* \\# subscription-manager repos \\--enable codeready-builder-for-rhel-9-x86\\_64-rpms  \n",
    "* \\# yum install perl-IPC-Run\n"
   ]
  },
  {
   "cell_type": "code",
   "execution_count": 68,
   "id": "89602523",
   "metadata": {
    "vscode": {
     "languageId": "shellscript"
    }
   },
   "outputs": [
    {
     "name": "stdout",
     "output_type": "stream",
     "text": [
      "\n",
      ">>>ssh ic4lx86 -T 'sudo subscription-manager repos --enable codeready-builder-for-rhel-9-x86_64-rpms'<<<\n",
      "\n",
      "Repository 'codeready-builder-for-rhel-9-x86_64-rpms' is enabled for this system.\n"
     ]
    }
   ],
   "source": [
    "%%bash\n",
    "# Configure the RHEL 9 instance to access Red Hat's CodeReady Linux Builder repository.\n",
    "## This command may take thirty seconds to complete.\n",
    "\n",
    "strng=$'ssh ic4lx86 -T \\'sudo subscription-manager repos --enable codeready-builder-for-rhel-9-x86_64-rpms\\''\n",
    "printf '\\n>>>%s<<<\\n\\n' \"$strng\"\n",
    "eval $strng"
   ]
  },
  {
   "cell_type": "code",
   "execution_count": 69,
   "id": "1f1a3134",
   "metadata": {
    "vscode": {
     "languageId": "shellscript"
    }
   },
   "outputs": [
    {
     "name": "stdout",
     "output_type": "stream",
     "text": [
      "\n",
      ">>>ssh ic4lx86 -T 'sudo dnf install perl-IPC-Run --quiet --assumeyes'<<<\n",
      "\n"
     ]
    },
    {
     "name": "stderr",
     "output_type": "stream",
     "text": [
      "Importing GPG key 0xFD431D51:\n",
      " Userid     : \"Red Hat, Inc. (release key 2) <security@redhat.com>\"\n",
      " Fingerprint: 567E 347A D004 4ADE 55BA 8A5F 199E 2F91 FD43 1D51\n",
      " From       : /etc/pki/rpm-gpg/RPM-GPG-KEY-redhat-release\n",
      "Importing GPG key 0x5A6340B3:\n",
      " Userid     : \"Red Hat, Inc. (auxiliary key 3) <security@redhat.com>\"\n",
      " Fingerprint: 7E46 2425 8C40 6535 D56D 6F13 5054 E4A4 5A63 40B3\n",
      " From       : /etc/pki/rpm-gpg/RPM-GPG-KEY-redhat-release\n"
     ]
    },
    {
     "name": "stdout",
     "output_type": "stream",
     "text": [
      "\n",
      "Installed:\n",
      "  perl-IO-Tty-1.16-4.el9.x86_64       perl-IPC-Run-20200505.0-6.el9.noarch      \n",
      "\n"
     ]
    }
   ],
   "source": [
    "%%bash\n",
    "# Install perl-IPC-Run\n",
    "## This command may take twenty seconds to complete.\n",
    "\n",
    "strng=$'ssh ic4lx86 -T \\'sudo dnf install perl-IPC-Run --quiet --assumeyes\\''\n",
    "printf '\\n>>>%s<<<\\n\\n' \"$strng\"\n",
    "eval $strng"
   ]
  },
  {
   "cell_type": "code",
   "execution_count": null,
   "id": "ba7337c4",
   "metadata": {},
   "outputs": [
    {
     "name": "stdout",
     "output_type": "stream",
     "text": [
      "\n",
      ">>>ssh ic4lx86 -T 'sudo dnf install postgresql17-devel --quiet --assumeyes  &&  find /usr/pgsql-17/ -type f -name libecpg.a  -exec ls -l {} \\+'<<<\n",
      "\n",
      "\n",
      "Installed:\n",
      "  clang-19.1.7-2.el9.x86_64                                                     \n",
      "  clang-devel-19.1.7-2.el9.x86_64                                               \n",
      "  clang-libs-19.1.7-2.el9.x86_64                                                \n",
      "  clang-resource-filesystem-19.1.7-2.el9.x86_64                                 \n",
      "  clang-tools-extra-19.1.7-2.el9.x86_64                                         \n",
      "  cmake-filesystem-3.26.5-2.el9.x86_64                                          \n",
      "  compiler-rt-19.1.7-2.el9.x86_64                                               \n",
      "  environment-modules-5.3.0-1.el9.x86_64                                        \n",
      "  gcc-toolset-14-binutils-2.41-4.el9_6.1.x86_64                                 \n",
      "  gcc-toolset-14-gcc-14.2.1-7.1.el9.x86_64                                      \n",
      "  gcc-toolset-14-gcc-c++-14.2.1-7.1.el9.x86_64                                  \n",
      "  gcc-toolset-14-libstdc++-devel-14.2.1-7.1.el9.x86_64                          \n",
      "  gcc-toolset-14-runtime-14.0-1.el9.x86_64                                      \n",
      "  libedit-devel-3.1-38.20210216cvs.el9.x86_64                                   \n",
      "  libicu-devel-67.1-10.el9_6.x86_64                                             \n",
      "  libomp-19.1.7-2.el9.x86_64                                                    \n",
      "  libomp-devel-19.1.7-2.el9.x86_64                                              \n",
      "  llvm-19.1.7-2.el9.x86_64                                                      \n",
      "  llvm-devel-19.1.7-2.el9.x86_64                                                \n",
      "  llvm-googletest-19.1.7-2.el9.x86_64                                           \n",
      "  llvm-static-19.1.7-2.el9.x86_64                                               \n",
      "  llvm-test-19.1.7-2.el9.x86_64                                                 \n",
      "  ncurses-c++-libs-6.2-10.20210508.el9_6.2.x86_64                               \n",
      "  ncurses-devel-6.2-10.20210508.el9_6.2.x86_64                                  \n",
      "  perl-Importer-0.026-4.el9.noarch                                              \n",
      "  perl-JSON-PP-1:4.06-4.el9.noarch                                              \n",
      "  perl-MIME-Charset-1.012.2-15.el9.noarch                                       \n",
      "  perl-Object-HashBase-0.009-7.el9.noarch                                       \n",
      "  perl-Term-Size-Any-0.002-35.el9.noarch                                        \n",
      "  perl-Term-Size-Perl-0.031-12.el9.x86_64                                       \n",
      "  perl-Term-Table-0.015-8.el9.noarch                                            \n",
      "  perl-Test-Simple-3:1.302183-4.el9.noarch                                      \n",
      "  perl-Time-HiRes-4:1.9764-462.el9.x86_64                                       \n",
      "  perl-Unicode-LineBreak-2019.001-11.el9.x86_64                                 \n",
      "  postgresql17-devel-17.6-1PGDG.rhel9.x86_64                                    \n",
      "  scl-utils-1:2.0.3-4.el9.x86_64                                                \n",
      "  sombok-2.4.0-16.el9.x86_64                                                    \n",
      "\n",
      "-rw-r--r--. 1 root root 1086310 Aug 13 04:39 /usr/pgsql-17/lib/libecpg.a\n"
     ]
    }
   ],
   "source": [
    "%%bash\n",
    "# Install postgresql17-devel.\n",
    "## This command may take up to two minutes to complete.\n",
    "\n",
    "strng=$'ssh ic4lx86 -T \\'sudo dnf install postgresql17-devel --quiet --assumeyes  &&  '\n",
    "strng+=$'find /usr/pgsql-17/ -type f -name libecpg.a  -exec ls -l {} \\+\\''\n",
    "printf '\\n>>>%s<<<\\n\\n' \"$strng\"\n",
    "eval $strng"
   ]
  },
  {
   "cell_type": "markdown",
   "id": "e37a3543",
   "metadata": {},
   "source": [
    "### 02.03  Setup database AD22 and access with user michael."
   ]
  },
  {
   "cell_type": "code",
   "execution_count": 5,
   "id": "44bbb201",
   "metadata": {},
   "outputs": [
    {
     "name": "stdout",
     "output_type": "stream",
     "text": [
      "\n",
      "***  2025-08-21T20:23:37:-0500 --  Listing ad22-02-01 CREATE DATABASE analysis;  ***\n",
      "------------------------------------------------------------------------------------\n",
      "CREATE DATABASE\n",
      "\n",
      "---  2025-08-21T20:23:37:-0500 --  echo $?  --  zero means \"All is well.\"  ---\n",
      "------------------------------------------------------------------------------\n",
      "0\n",
      "\n",
      "---  2025-08-21T20:23:37:-0500 --  CREATE the table if does not exist. Then INSERT data.  ---\n",
      "---------------------------------------------------------------------------------------------\n",
      "CREATE TABLE IF NOT EXISTS teachers\n",
      "(\n",
      "    id bigserial,\n",
      "    first_name varchar(25),\n",
      "    last_name varchar(50),\n",
      "    school varchar(50),\n",
      "    hire_date date,\n",
      "    salary numeric\n",
      ");\n",
      "CREATE TABLE\n",
      "INSERT INTO teachers (first_name, last_name, school, hire_date, salary)\n",
      "VALUES ('Janet', 'Smith', 'F.D. Roosevelt HS', '2011-10-30', 36200),\n",
      "       ('Lee', 'Reynolds', 'F.D. Roosevelt HS', '1993-05-22', 65000),\n",
      "       ('Samuel', 'Cole', 'Myers Middle School', '2005-08-01', 43500),\n",
      "       ('Samantha', 'Bush', 'Myers Middle School', '2011-10-30', 36200),\n",
      "       ('Betty', 'Diaz', 'Myers Middle School', '2005-08-30', 43500),\n",
      "       ('Kathleen', 'Roush', 'F.D. Roosevelt HS', '2010-10-22', 38500);\n",
      "INSERT 0 6\n",
      "\n",
      "---  2025-08-21T20:23:37:-0500 --  Validate table structure and the INSERTed data.  ---\n",
      "---------------------------------------------------------------------------------------\n",
      "d+ teachers\n",
      "                                                                Table \"public.teachers\"\n",
      "   Column   |         Type          | Collation | Nullable |               Default                | Storage  | Compression | Stats target | Description \n",
      "------------+-----------------------+-----------+----------+--------------------------------------+----------+-------------+--------------+-------------\n",
      " id         | bigint                |           | not null | nextval('teachers_id_seq'::regclass) | plain    |             |              | \n",
      " first_name | character varying(25) |           |          |                                      | extended |             |              | \n",
      " last_name  | character varying(50) |           |          |                                      | extended |             |              | \n",
      " school     | character varying(50) |           |          |                                      | extended |             |              | \n",
      " hire_date  | date                  |           |          |                                      | plain    |             |              | \n",
      " salary     | numeric               |           |          |                                      | main     |             |              | \n",
      "Access method: heap\n",
      "\n",
      "Table teachers;\n",
      " id | first_name | last_name |       school        | hire_date  | salary \n",
      "----+------------+-----------+---------------------+------------+--------\n",
      "  1 | Janet      | Smith     | F.D. Roosevelt HS   | 2011-10-30 |  36200\n",
      "  2 | Lee        | Reynolds  | F.D. Roosevelt HS   | 1993-05-22 |  65000\n",
      "  3 | Samuel     | Cole      | Myers Middle School | 2005-08-01 |  43500\n",
      "  4 | Samantha   | Bush      | Myers Middle School | 2011-10-30 |  36200\n",
      "  5 | Betty      | Diaz      | Myers Middle School | 2005-08-30 |  43500\n",
      "  6 | Kathleen   | Roush     | F.D. Roosevelt HS   | 2010-10-22 |  38500\n",
      "(6 rows)\n",
      "\n"
     ]
    }
   ],
   "source": [
    "%%bash\n",
    "# Implement what Anthony DeBarros describes in his book \n",
    "## \"Practical SQL, A Beginner’s Guide to Storytelling with Data\", 2022.\n",
    "../SCRIPTS/ad22_ch02_lst01.sh"
   ]
  },
  {
   "cell_type": "code",
   "execution_count": 6,
   "id": "6295dde2",
   "metadata": {},
   "outputs": [
    {
     "name": "stdout",
     "output_type": "stream",
     "text": [
      "CREATE ROLE michael LOGIN PASSWORD 'Stonebraker';\n"
     ]
    },
    {
     "name": "stderr",
     "output_type": "stream",
     "text": [
      "ERROR:  role \"michael\" already exists\n"
     ]
    },
    {
     "name": "stdout",
     "output_type": "stream",
     "text": [
      "GRANT ALL PRIVILEGES ON teachers TO michael;\n",
      "GRANT\n",
      "\n",
      ">>>psql --dbname AD22 --username michael --command 'TABLE teachers;'<<<\n",
      "\n",
      " id | first_name | last_name |       school        | hire_date  | salary \n",
      "----+------------+-----------+---------------------+------------+--------\n",
      "  1 | Janet      | Smith     | F.D. Roosevelt HS   | 2011-10-30 |  36200\n",
      "  2 | Lee        | Reynolds  | F.D. Roosevelt HS   | 1993-05-22 |  65000\n",
      "  3 | Samuel     | Cole      | Myers Middle School | 2005-08-01 |  43500\n",
      "  4 | Samantha   | Bush      | Myers Middle School | 2011-10-30 |  36200\n",
      "  5 | Betty      | Diaz      | Myers Middle School | 2005-08-30 |  43500\n",
      "  6 | Kathleen   | Roush     | F.D. Roosevelt HS   | 2010-10-22 |  38500\n",
      "(6 rows)\n",
      "\n"
     ]
    }
   ],
   "source": [
    "%%bash\n",
    "# Add a role to login and access the teachers table.\n",
    "psql --dbname AD22 --echo-all --echo-queries <<EoF\n",
    "CREATE ROLE michael LOGIN PASSWORD 'Stonebraker';\n",
    "GRANT ALL PRIVILEGES ON teachers TO michael;\n",
    "EoF\n",
    "\n",
    "strng=$'psql --dbname AD22 --username michael --command \\'TABLE teachers;\\''\n",
    "printf '\\n>>>%s<<<\\n\\n' \"$strng\"\n",
    "eval $strng"
   ]
  },
  {
   "cell_type": "markdown",
   "id": "59a18c03",
   "metadata": {},
   "source": [
    "### 02.04  Access AD22 from the remote COBOL machine"
   ]
  },
  {
   "cell_type": "code",
   "execution_count": 38,
   "id": "47b00c61",
   "metadata": {},
   "outputs": [
    {
     "name": "stdout",
     "output_type": "stream",
     "text": [
      "\n",
      ">>>printf '%s -- the value for listen_addresses in postgresql.config\n",
      "' \"$(ifconfig en0 inet | tail -n 1 | cut -d ' ' -f2)\"<<<\n",
      "\n",
      "192.168.5.23 -- the value for listen_addresses in postgresql.config \n",
      ">>>sed -n '844,845p' /Users/mbp9/Library/Application\\ Support/Postgres/var-17/postgresql.conf | nl -v 844<<<\n",
      "\n",
      "   844\t# 2025-07-28M  mbp9 listens on this network interface for connections.\n",
      "   845\tlisten_addresses = '192.168.5.23'\n"
     ]
    }
   ],
   "source": [
    "%%bash\n",
    "# Find IPv4 address for this machine, PostgreSQL server, and configure its PostgreSQL listen address.\n",
    "\n",
    "strng=$'printf \\'%s -- the value for listen_addresses in postgresql.config\\n\\' '\n",
    "strng+=$'\"$(ifconfig en0 inet | tail -n 1 | cut -d \\' \\' -f2)\"'\n",
    "printf '\\n>>>%s<<<\\n\\n' \"$strng\"\n",
    "eval $strng\n",
    "\n",
    "strng=$'sed -n \\'844,845p\\' /Users/mbp9/Library/Application\\ Support/Postgres/var-17/postgresql.conf | nl -v 844'\n",
    "printf '\\n>>>%s<<<\\n\\n' \"$strng\"\n",
    "eval $strng"
   ]
  },
  {
   "cell_type": "code",
   "execution_count": 39,
   "id": "87b54551",
   "metadata": {},
   "outputs": [
    {
     "name": "stdout",
     "output_type": "stream",
     "text": [
      "\n",
      ">>>sed -n '129,134p' /Users/mbp9/Library/Application\\ Support/Postgres/var-17/pg_hba.conf | nl -v 129<<<\n",
      "\n",
      "   129\t# 2025-07-28M Configure connections.\n",
      "   130\t## subject to MD5 authentication.\n",
      "   131\t# TYPE  DATABASE        USER            ADDRESS                 METHOD\n",
      "   132\t# host  \tall             all             samenet         \ttrust\n",
      "   133\thost  \tall             all             192.168.5.23/32         trust\n",
      "   134\thost    AD22            michael         192.168.5.88/32      \tscram-sha-256\n"
     ]
    }
   ],
   "source": [
    "%%bash\n",
    "# Set host-based authentication options. \n",
    "strng=$'sed -n \\'129,134p\\' /Users/mbp9/Library/Application\\ Support/Postgres/var-17/pg_hba.conf | nl -v 129'\n",
    "printf '\\n>>>%s<<<\\n\\n' \"$strng\"\n",
    "eval $strng\n"
   ]
  },
  {
   "cell_type": "code",
   "execution_count": 40,
   "id": "27ca26b8",
   "metadata": {},
   "outputs": [
    {
     "name": "stdout",
     "output_type": "stream",
     "text": [
      "\n",
      ">>>ssh ic4lx86 -T 'nl pgsql_env_vars && source pgsql_env_vars && echo &&psql --command \"SELECT version();\"'<<<\n",
      "\n",
      "     1\texport PGDATABASE=AD22\n",
      "     2\texport PGHOST=192.168.5.23\n",
      "     3\texport PGPASSWORD=Stonebraker\n",
      "     4\texport PGPORT=5432\n",
      "     5\texport PGUSER=michael\n",
      "\n",
      "                                                             version                                                             \n",
      "---------------------------------------------------------------------------------------------------------------------------------\n",
      " PostgreSQL 17.6 (Postgres.app) on aarch64-apple-darwin23.6.0, compiled by Apple clang version 15.0.0 (clang-1500.3.9.4), 64-bit\n",
      "(1 row)\n",
      "\n"
     ]
    }
   ],
   "source": [
    "%%bash\n",
    "# Review PostgreSQL environment variables for access the PostgreSQL server, then test.\n",
    "strng='ssh ic4lx86 -T '\n",
    "strng+=$'\\'nl pgsql_env_vars && '\n",
    "strng+=$'source pgsql_env_vars && echo &&'\n",
    "strng+=$'psql --command \"SELECT version();\"\\''\n",
    "printf '\\n>>>%s<<<\\n\\n' \"$strng\"\n",
    "eval $strng"
   ]
  },
  {
   "cell_type": "code",
   "execution_count": 41,
   "id": "7e61e18f",
   "metadata": {},
   "outputs": [
    {
     "name": "stdout",
     "output_type": "stream",
     "text": [
      "\n",
      ">>>ssh ic4lx86 -T 'nl pgsql_env_vars && source pgsql_env_vars && echo &&psql --command \"TABLE teachers;\"'<<<\n",
      "\n",
      "     1\texport PGDATABASE=AD22\n",
      "     2\texport PGHOST=192.168.5.23\n",
      "     3\texport PGPASSWORD=Stonebraker\n",
      "     4\texport PGPORT=5432\n",
      "     5\texport PGUSER=michael\n",
      "\n",
      " id | first_name | last_name |       school        | hire_date  | salary \n",
      "----+------------+-----------+---------------------+------------+--------\n",
      "  1 | Janet      | Smith     | F.D. Roosevelt HS   | 2011-10-30 |  36200\n",
      "  2 | Lee        | Reynolds  | F.D. Roosevelt HS   | 1993-05-22 |  65000\n",
      "  3 | Samuel     | Cole      | Myers Middle School | 2005-08-01 |  43500\n",
      "  4 | Samantha   | Bush      | Myers Middle School | 2011-10-30 |  36200\n",
      "  5 | Betty      | Diaz      | Myers Middle School | 2005-08-30 |  43500\n",
      "  6 | Kathleen   | Roush     | F.D. Roosevelt HS   | 2010-10-22 |  38500\n",
      "(6 rows)\n",
      "\n"
     ]
    }
   ],
   "source": [
    "%%bash\n",
    "# Review PostgreSQL environment variables for access the PostgreSQL server, then test.\n",
    "strng='ssh ic4lx86 -T '\n",
    "strng+=$'\\'nl pgsql_env_vars && '\n",
    "strng+=$'source pgsql_env_vars && echo &&'\n",
    "strng+=$'psql --command \"TABLE teachers;\"\\''\n",
    "printf '\\n>>>%s<<<\\n\\n' \"$strng\"\n",
    "eval $strng"
   ]
  },
  {
   "cell_type": "markdown",
   "id": "cd970c32",
   "metadata": {},
   "source": [
    "## 03  Install IBM COBOL for Linux on X86\n",
    "*  The evalulation version for IBM COBOL for Linux on x86 1.2 available Summer of 2025\n",
    "*  Current maintance from IBM Fix Central, 1.2.0.7.  1.2.0.6 is the first IBM COBOL for Linux release to support PostgreSQL access\n",
    "*  Broadcom VMWare Fusion file sharing for making the download IBM files available to the virtual machines."
   ]
  },
  {
   "cell_type": "markdown",
   "id": "94d40aa1",
   "metadata": {},
   "source": [
    "### 03.01  Install the IBM product."
   ]
  },
  {
   "cell_type": "code",
   "execution_count": 7,
   "id": "a8bfeca0",
   "metadata": {},
   "outputs": [
    {
     "name": "stdout",
     "output_type": "stream",
     "text": [
      "\n",
      ">>>ssh ic4lx86 -T 'ls -lt /mnt/hgfs/IBM-COBOL-1.2_EVAL/ && echo && ls -1 /mnt/hgfs/IBM-COBOL-1.2_EVAL/*gz'<<<\n",
      "\n",
      "total 120432\n",
      "-rw-r--r--. 1 502 games 123322169 Jul 26 14:09 IBM_COBOL_V1.2.0_LINUX_EVAL.x86-64.241122.tar.gz\n",
      "\n",
      "/mnt/hgfs/IBM-COBOL-1.2_EVAL/IBM_COBOL_V1.2.0_LINUX_EVAL.x86-64.241122.tar.gz\n"
     ]
    }
   ],
   "source": [
    "%%bash\n",
    "# Confirm the IBM download is available\n",
    "\n",
    "strng='ssh ic4lx86 -T '\n",
    "strng+=$'\\'ls -lt /mnt/hgfs/IBM-COBOL-1.2_EVAL/ && '\n",
    "strng+='echo && '\n",
    "strng+=$'ls -1 /mnt/hgfs/IBM-COBOL-1.2_EVAL/*gz\\''\n",
    "printf '\\n>>>%s<<<\\n\\n' \"$strng\"\n",
    "eval $strng"
   ]
  },
  {
   "cell_type": "code",
   "execution_count": null,
   "id": "9dc76011",
   "metadata": {},
   "outputs": [
    {
     "name": "stdout",
     "output_type": "stream",
     "text": [
      "\n",
      ">>>ssh ic4lx86 -T 'mkdir /home/virtuser/EXTRACT-COBOL && cd /home/virtuser/EXTRACT-COBOL && tar --extract --gunzip --file /mnt/hgfs/IBM-COBOL-1.2_EVAL/IBM_COBOL_V1.2.0_LINUX_EVAL.x86-64.241122.tar.gz && tree -d'<<<\n",
      "\n",
      ".\n",
      "└── images\n",
      "    ├── rhel\n",
      "    ├── sles\n",
      "    └── ubuntu\n",
      "\n",
      "4 directories\n"
     ]
    }
   ],
   "source": [
    "%%bash\n",
    "# Make directory for .tar.gz expansion.  Expand the file, then check for contents.\n",
    "\n",
    "strng='ssh ic4lx86 -T '\n",
    "strng+=$'\\'mkdir /home/virtuser/EXTRACT-COBOL && '\n",
    "strng+='cd /home/virtuser/EXTRACT-COBOL && '\n",
    "strng+='tar --extract --gunzip --file /mnt/hgfs/IBM-COBOL-1.2_EVAL/IBM_COBOL_V1.2.0_LINUX_EVAL.x86-64.241122.tar.gz && '\n",
    "strng+=$'tree -d\\''\n",
    "printf '\\n>>>%s<<<\\n\\n' \"$strng\"\n",
    "eval $strng"
   ]
  },
  {
   "cell_type": "code",
   "execution_count": 12,
   "id": "e6c437e5",
   "metadata": {},
   "outputs": [
    {
     "name": "stdout",
     "output_type": "stream",
     "text": [
      "\n",
      ">>>ssh ic4lx86 -T 'cd /home/virtuser/EXTRACT-COBOL && /home/virtuser/EXTRACT-COBOL/install'<<<\n",
      "\n",
      "/usr/bin/sudo rpm -Uvh /home/virtuser/EXTRACT-COBOL/images/rhel/*.rpm\n",
      "Verifying...                          ########################################\n",
      "Preparing...                          ########################################\n",
      "Updating / installing...\n",
      "cobol.cmp.license-eval.1.2.0-1.2.0.5-2########################################\n",
      "cobol.rte.1.2.0-1.2.0.5-241115        ########################################\n",
      "cobol.cmp.1.2.0-1.2.0.5-241115        ########################################\n",
      "cobol.dbg.1.2.0-1.2.0.5-241115        ########################################\n",
      "Installation and configuration successful\n"
     ]
    }
   ],
   "source": [
    "%%bash\n",
    "# Install IBM COBOL for Linux on x86.\n",
    "## This may take 30 seconds to complete.\n",
    "\n",
    "strng='ssh ic4lx86 -T '\n",
    "strng+=$'\\'cd /home/virtuser/EXTRACT-COBOL && '\n",
    "strng+=$'/home/virtuser/EXTRACT-COBOL/install\\''\n",
    "printf '\\n>>>%s<<<\\n\\n' \"$strng\"\n",
    "eval $strng"
   ]
  },
  {
   "cell_type": "markdown",
   "id": "f419dae3",
   "metadata": {},
   "source": [
    "### 03.02  Install the IBM product's current maintenance, Summer 2025."
   ]
  },
  {
   "cell_type": "code",
   "execution_count": 13,
   "id": "51079e47",
   "metadata": {},
   "outputs": [
    {
     "name": "stdout",
     "output_type": "stream",
     "text": [
      "\n",
      ">>>ssh ic4lx86 -T 'ls -l /mnt/hgfs/FC_IBM-COBOL-1.2.0.7/IBM_COBOL_1.2.0.7_LINUX.x86-64.tar.gz'<<<\n",
      "\n",
      "-rw-r--r--. 1 502 games 117461910 Jul 23 19:35 /mnt/hgfs/FC_IBM-COBOL-1.2.0.7/IBM_COBOL_1.2.0.7_LINUX.x86-64.tar.gz\n"
     ]
    }
   ],
   "source": [
    "%%bash\n",
    "# Confirm the IBM download is available\n",
    "\n",
    "strng='ssh ic4lx86 -T '\n",
    "strng+=$'\\'ls -l /mnt/hgfs/FC_IBM-COBOL-1.2.0.7/IBM_COBOL_1.2.0.7_LINUX.x86-64.tar.gz\\''\n",
    "printf '\\n>>>%s<<<\\n\\n' \"$strng\"\n",
    "eval $strng"
   ]
  },
  {
   "cell_type": "code",
   "execution_count": 14,
   "id": "a015e28c",
   "metadata": {},
   "outputs": [
    {
     "name": "stdout",
     "output_type": "stream",
     "text": [
      "\n",
      ">>>ssh ic4lx86 -T 'mkdir /home/virtuser/EXTRACT-FC && cd /home/virtuser/EXTRACT-FC && tar --extract --gunzip --file /mnt/hgfs/FC_IBM-COBOL-1.2.0.7/IBM_COBOL_1.2.0.7_LINUX.x86-64.tar.gz && tree -d'<<<\n",
      "\n",
      ".\n",
      "└── images\n",
      "    ├── rhel\n",
      "    ├── sles\n",
      "    └── ubuntu\n",
      "\n",
      "4 directories\n"
     ]
    }
   ],
   "source": [
    "%%bash\n",
    "# Make directory for .tar.gz expansion.  Expand the file, then check for contents.\n",
    "\n",
    "strng='ssh ic4lx86 -T '\n",
    "strng+=$'\\'mkdir /home/virtuser/EXTRACT-FC && '\n",
    "strng+='cd /home/virtuser/EXTRACT-FC && '\n",
    "strng+='tar --extract --gunzip --file /mnt/hgfs/FC_IBM-COBOL-1.2.0.7/IBM_COBOL_1.2.0.7_LINUX.x86-64.tar.gz && '\n",
    "strng+=$'tree -d\\''\n",
    "printf '\\n>>>%s<<<\\n\\n' \"$strng\"\n",
    "eval $strng"
   ]
  },
  {
   "cell_type": "code",
   "execution_count": 15,
   "id": "2828e305",
   "metadata": {},
   "outputs": [
    {
     "name": "stdout",
     "output_type": "stream",
     "text": [
      "\n",
      ">>>ssh ic4lx86 -T 'cd /home/virtuser/EXTRACT-FC && /home/virtuser/EXTRACT-FC/install'<<<\n",
      "\n",
      "/usr/bin/sudo rpm -Uvh /home/virtuser/EXTRACT-FC/images/rhel/*.rpm\n",
      "Verifying...                          ########################################\n",
      "Preparing...                          ########################################\n",
      "Updating / installing...\n",
      "cobol.rte.1.2.0-1.2.0.7-250707        ########################################\n",
      "cobol.cmp.1.2.0-1.2.0.7-250707        ########################################\n",
      "cobol.dbg.1.2.0-1.2.0.7-250707        ########################################\n",
      "Cleaning up / removing...\n",
      "cobol.cmp.1.2.0-1.2.0.5-241115        ########################################\n",
      "cobol.rte.1.2.0-1.2.0.5-241115        ########################################\n",
      "cobol.dbg.1.2.0-1.2.0.5-241115        ########################################\n",
      "Installation and configuration successful\n"
     ]
    }
   ],
   "source": [
    "%%bash\n",
    "# Install IBM Fix Central maintenance for COBOL for Linux on x86.\n",
    "## This may take 30 seconds to complete.\n",
    "\n",
    "strng='ssh ic4lx86 -T '\n",
    "strng+=$'\\'cd /home/virtuser/EXTRACT-FC && '\n",
    "strng+=$'/home/virtuser/EXTRACT-FC/install\\''\n",
    "printf '\\n>>>%s<<<\\n\\n' \"$strng\"\n",
    "eval $strng"
   ]
  },
  {
   "cell_type": "code",
   "execution_count": 16,
   "id": "90b48745",
   "metadata": {},
   "outputs": [
    {
     "name": "stdout",
     "output_type": "stream",
     "text": [
      "\n",
      ">>>ssh ic4lx86 -T 'sudo  dnf repoquery --userinstalled | grep --ignore-case cobol | rev | sort -r | rev | nl'<<<\n",
      "\n",
      "     1\tcobol.cmp.1.2.0-0:1.2.0.7-250707.x86_64\n",
      "     2\tcobol.dbg.1.2.0-0:1.2.0.7-250707.x86_64\n",
      "     3\tcobol.rte.1.2.0-0:1.2.0.7-250707.x86_64\n",
      "     4\tcobol.cmp.license-eval.1.2.0-0:1.2.0.5-241115.x86_64\n"
     ]
    }
   ],
   "source": [
    "%%bash\n",
    "# Validae that version 1.2.0.6, or above, is in place for the PostgreSQL support.\n",
    "\n",
    "strng='ssh ic4lx86 -T '\n",
    "strng+=$'\\'sudo  dnf repoquery --userinstalled | grep --ignore-case cobol | rev | sort -r | rev | nl\\''\n",
    "printf '\\n>>>%s<<<\\n\\n' \"$strng\"\n",
    "eval $strng"
   ]
  },
  {
   "cell_type": "markdown",
   "id": "8f5bf4fe",
   "metadata": {},
   "source": [
    "###  03.03 cob2.cfg modified for `/usr/pgsql-17/lib/`\n",
    "`cob2` is a binary file that sets the options for compilation and linkage of COBOL program.  Its has variants for different databases systems.  The variant for PostgreSQL is `cob2_pgsql`.  `cob2` finds libraries and configuration data in the the files `cob2.cfg`.  See [\"Tailoring your compilation\"](https://www.ibm.com/docs/en/cobol-linux-x86/1.2.0?topic=configuration-tailoring-your-compilation) in the IBM Documentation."
   ]
  },
  {
   "cell_type": "code",
   "execution_count": 42,
   "id": "b9b56cc4",
   "metadata": {},
   "outputs": [
    {
     "name": "stdout",
     "output_type": "stream",
     "text": [
      "\n",
      ">>>ssh ic4lx86 -T 'sed -n 's/pgsql-15/pgsql-17/p' /opt/ibm/cobol/1.2.0/etc/cob2.cfg'<<<\n",
      "\n",
      "\tcoprocessor    = /usr/pgsql-17/lib\n",
      "\tcoprocessor_64 = /usr/pgsql-17/lib\n",
      "\trunlib2        = -lpgsql_32r -L/usr/pgsql-17/lib -lecpg\n",
      "\trunlib2_64     = -lpgsql_64r -L/usr/pgsql-17/lib -lecpg\n"
     ]
    }
   ],
   "source": [
    "%%bash\n",
    "# Inform cob2_pgsql we are using /usr/pgsql-17/lib.\n",
    "\n",
    "strng='ssh ic4lx86 -T '\n",
    "strng+=$'\\'sed -n \\'s/pgsql-15/pgsql-17/p\\' /opt/ibm/cobol/1.2.0/etc/cob2.cfg\\''\n",
    "printf '\\n>>>%s<<<\\n\\n' \"$strng\"\n",
    "eval $strng"
   ]
  },
  {
   "cell_type": "markdown",
   "id": "6b835071",
   "metadata": {},
   "source": [
    "### 03.04  Tidy up. Remove directories for COBOL install and Fix Central maintenance."
   ]
  },
  {
   "cell_type": "code",
   "execution_count": 24,
   "id": "f55c1311",
   "metadata": {},
   "outputs": [
    {
     "name": "stdout",
     "output_type": "stream",
     "text": [
      "\n",
      ">>>ssh ic4lx86 -T 'rm --recursive /home/virtuser/EXTRACT-COBOL && rm --recursive /home/virtuser/EXTRACT-FC'<<<\n",
      "\n"
     ]
    }
   ],
   "source": [
    "%%bash\n",
    "# Remove directories and their contents that are no longer needed.\n",
    "\n",
    "strng='ssh ic4lx86 -T '\n",
    "strng+=$'\\'rm --recursive /home/virtuser/EXTRACT-COBOL && '\n",
    "strng+=$'rm --recursive /home/virtuser/EXTRACT-FC\\''\n",
    "printf '\\n>>>%s<<<\\n\\n' \"$strng\"\n",
    "eval $strng"
   ]
  },
  {
   "cell_type": "markdown",
   "id": "52959796",
   "metadata": {},
   "source": [
    "## 04  Compile and run the example program: IBM COBOL accesses PostgreSQL."
   ]
  },
  {
   "cell_type": "code",
   "execution_count": 51,
   "id": "cb8dc044",
   "metadata": {},
   "outputs": [
    {
     "name": "stdout",
     "output_type": "stream",
     "text": [
      "\n",
      "***  2025-08-26T17:35:56:-0500 --  001  sftp cbl2pgsql_xmp01 to the machine with IBM COBOL.  ***\n",
      "------------------------------------------------------------------------------------------------\n",
      ">>>sftp ic4lx86:/home/virtuser/COBOL <<< \"put ../COBOL/cbl2pgsql_xmp01.cobol\"<<<\n",
      "\n"
     ]
    },
    {
     "name": "stderr",
     "output_type": "stream",
     "text": [
      "Connected to ic4lx86.\n"
     ]
    },
    {
     "name": "stdout",
     "output_type": "stream",
     "text": [
      "Changing to: /home/virtuser/COBOL\n",
      "sftp> put ../COBOL/cbl2pgsql_xmp01.cobol\n",
      "Uploading ../COBOL/cbl2pgsql_xmp01.cobol to /home/virtuser/COBOL/cbl2pgsql_xmp01.cobol\n",
      "\n",
      "***  2025-08-26T17:35:57:-0500 --  002  Compile and link-edit to PGSQL using ecpg.  ***\n",
      "---------------------------------------------------------------------------------------\n",
      ">>>ssh -T ic4lx86 cob2_pgsql /home/virtuser/COBOL/cbl2pgsql_xmp01.cobol -o cbl2pgsql_xmp01<<<\n",
      "\n"
     ]
    },
    {
     "name": "stderr",
     "output_type": "stream",
     "text": [
      "IBM COBOL for Linux 1.2.0 compile started\n"
     ]
    },
    {
     "name": "stdout",
     "output_type": "stream",
     "text": [
      "End of compilation 1,  program HELLO_POSTGRES,  no statements flagged.\n",
      "\n",
      "***  2025-08-26T17:35:58:-0500 --  003  Execute the COBOL program. Displays results from PGSQL.  ***\n",
      "----------------------------------------------------------------------------------------------------\n",
      ">>>ssh -T ic4lx86 'source /home/virtuser/pgsql_env_vars && /home/virtuser/cbl2pgsql_xmp01'<<<\n",
      "\n",
      "   emp_names     \n",
      "---------------- \n",
      " Janet Smith     \n",
      " Lee Reynolds    \n",
      " Samuel Cole     \n",
      " Samantha Bush   \n",
      " Betty Diaz      \n",
      " Kathleen Roush  \n",
      "+++ Disconnected from PostgreSQL database. +++\n",
      "\n",
      "***  2025-08-26T17:36:00:-0500 --  004  Validate the COBOL PGSQL results with psql expression equivalent to the COBOL program.  ***\n",
      "-----------------------------------------------------------------------------------------------------------------------------------\n",
      ">>>psql --dbname AD22 --command \"SELECT CONCAT(first_name, ' ', last_name) AS emp_names FROM teachers;\"<<<\n",
      "\n",
      "   emp_names    \n",
      "----------------\n",
      " Janet Smith\n",
      " Lee Reynolds\n",
      " Samuel Cole\n",
      " Samantha Bush\n",
      " Betty Diaz\n",
      " Kathleen Roush\n",
      "(6 rows)\n",
      "\n"
     ]
    }
   ],
   "source": [
    "%%bash\n",
    "# Invoke a built for purpose script.\n",
    "\n",
    "../SCRIPTS/compile-run.sh cbl2pgsql_xmp01"
   ]
  }
 ],
 "metadata": {
  "kernelspec": {
   "display_name": "Python 3",
   "language": "python",
   "name": "python3"
  },
  "language_info": {
   "codemirror_mode": {
    "name": "ipython",
    "version": 3
   },
   "file_extension": ".py",
   "mimetype": "text/x-python",
   "name": "python",
   "nbconvert_exporter": "python",
   "pygments_lexer": "ipython3",
   "version": "3.13.2"
  }
 },
 "nbformat": 4,
 "nbformat_minor": 5
}
